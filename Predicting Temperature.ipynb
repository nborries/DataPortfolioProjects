{
 "cells": [
  {
   "attachments": {},
   "cell_type": "markdown",
   "id": "8057f721",
   "metadata": {},
   "source": [
    "# Predicting the Temperature\n",
    "## Nate Borries\n",
    "### June 2023"
   ]
  },
  {
   "attachments": {},
   "cell_type": "markdown",
   "id": "eee98d38",
   "metadata": {},
   "source": [
    "### Try to predict the temperature on each day given the following information:\n",
    "    1. Cold days are encoded by a 0 and hot days are encoded by a 1. \n",
    "    2. The first day in our sequence has an 80% chance of being cold.\n",
    "    3. A cold day has a 30% chance of being followed by a hot day. \n",
    "    4. A hot day has a 20% chance of being followed by a cold day. \n",
    "    5. On each day, the temperature is normally distributed with mean and std deviation 0 and 5 on a cold day and 15 and 10 on a hot day. "
   ]
  },
  {
   "cell_type": "code",
   "execution_count": 9,
   "id": "52209b32",
   "metadata": {},
   "outputs": [],
   "source": [
    "# import tensorflow\n",
    "import tensorflow_probability as tfp # needed for Hidden Markov models\n",
    "import tensorflow as tf"
   ]
  },
  {
   "cell_type": "code",
   "execution_count": 12,
   "id": "5bdc944d",
   "metadata": {},
   "outputs": [],
   "source": [
    "tfd = tfp.distributions # make a shortcut for later :D\n",
    "initial_distribution = tfd.Categorical(probs=[0.8, 0.2]) # Number 2 from above\n",
    "transition_distribution = tfd.Categorical(probs = [[0.7, 0.3], # Number 3 from above\n",
    "                                                   [0.2, 0.8]]) # and Number 4 from above\n",
    "observation_distribution = tfd.Normal(loc = [0.,15.], scale = [5.,10.]) # Number 5 from above, loc argument represents \n",
    "    # the mean and the scale is the std deviation. The periods desginate a float data type."
   ]
  },
  {
   "cell_type": "code",
   "execution_count": 15,
   "id": "4299bde0",
   "metadata": {},
   "outputs": [],
   "source": [
    "model = tfd.HiddenMarkovModel(\n",
    "    initial_distribution = initial_distribution,\n",
    "    transition_distribution = transition_distribution,\n",
    "    observation_distribution = observation_distribution,\n",
    "    num_steps = 7) # number of steps represents the number of days we would like to predict information for. "
   ]
  },
  {
   "cell_type": "code",
   "execution_count": 18,
   "id": "006a324e",
   "metadata": {},
   "outputs": [
    {
     "name": "stdout",
     "output_type": "stream",
     "text": [
      "[3.        5.9999995 7.4999995 8.25      8.625     8.812501  8.90625  ]\n"
     ]
    }
   ],
   "source": [
    "# to get the expected temperatures...\n",
    "mean = model.mean()\n",
    "print(mean.numpy())"
   ]
  }
 ],
 "metadata": {
  "kernelspec": {
   "display_name": "Python 3 (ipykernel)",
   "language": "python",
   "name": "python3"
  },
  "language_info": {
   "codemirror_mode": {
    "name": "ipython",
    "version": 3
   },
   "file_extension": ".py",
   "mimetype": "text/x-python",
   "name": "python",
   "nbconvert_exporter": "python",
   "pygments_lexer": "ipython3",
   "version": "3.10.9"
  }
 },
 "nbformat": 4,
 "nbformat_minor": 5
}
