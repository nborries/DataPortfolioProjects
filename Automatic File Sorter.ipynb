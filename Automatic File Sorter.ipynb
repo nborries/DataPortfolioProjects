{
 "cells": [
  {
   "cell_type": "markdown",
   "id": "37782b31",
   "metadata": {},
   "source": [
    "# Automatic File Sorter in File Explorer\n",
    "## Nate Borries\n",
    "#### May 16, 2023"
   ]
  },
  {
   "cell_type": "code",
   "execution_count": 45,
   "id": "318b308a",
   "metadata": {},
   "outputs": [],
   "source": [
    "import os, shutil "
   ]
  },
  {
   "cell_type": "code",
   "execution_count": 25,
   "id": "8ec87d9f",
   "metadata": {},
   "outputs": [],
   "source": [
    "path = r\"C:/Users/Nate/Documents/DataPortfolio/File Sorter/\""
   ]
  },
  {
   "cell_type": "code",
   "execution_count": 41,
   "id": "a436de37",
   "metadata": {},
   "outputs": [],
   "source": [
    "file_name = os.listdir(path)"
   ]
  },
  {
   "cell_type": "code",
   "execution_count": 53,
   "id": "db8bc779",
   "metadata": {},
   "outputs": [
    {
     "name": "stdout",
     "output_type": "stream",
     "text": [
      "There are files in this path that were not moved.\n",
      "There are files in this path that were not moved.\n",
      "There are files in this path that were not moved.\n"
     ]
    }
   ],
   "source": [
    "folder_names = ['csv files','image files','text files']\n",
    "\n",
    "for loop in range(0,3): \n",
    "    if not os.path.exists(path + folder_names[loop]): # does this path exist?\n",
    "        os.makedirs((path + folder_names[loop])) # make folder if it doesn't yet exist\n",
    "        print(path + folder_names[loop]) # print out new folder paths\n",
    "        \n",
    "for file in file_name:\n",
    "    if \".csv\" in file and not os.path.exists(path + \"csv files/\" + file):\n",
    "        shutil.move(path + file, path + \"csv files/\" + file)\n",
    "    elif \".JPG\" in file and not os.path.exists(path + \"image files/\" + file): # JPG is case sensative\n",
    "        shutil.move(path + file, path + \"image files/\" + file)\n",
    "    elif \".txt\" in file and not os.path.exists(path + \"text files/\" + file):\n",
    "        shutil.move(path + file, path + \"text files/\" + file)\n",
    "    else: \n",
    "        print(\"There are files in this path that were not moved.\")\n",
    "        "
   ]
  },
  {
   "cell_type": "code",
   "execution_count": null,
   "id": "0175787d",
   "metadata": {},
   "outputs": [],
   "source": []
  }
 ],
 "metadata": {
  "kernelspec": {
   "display_name": "Python 3 (ipykernel)",
   "language": "python",
   "name": "python3"
  },
  "language_info": {
   "codemirror_mode": {
    "name": "ipython",
    "version": 3
   },
   "file_extension": ".py",
   "mimetype": "text/x-python",
   "name": "python",
   "nbconvert_exporter": "python",
   "pygments_lexer": "ipython3",
   "version": "3.10.9"
  }
 },
 "nbformat": 4,
 "nbformat_minor": 5
}
