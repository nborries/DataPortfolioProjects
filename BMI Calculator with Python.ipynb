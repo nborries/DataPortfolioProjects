{
 "cells": [
  {
   "cell_type": "markdown",
   "id": "6bbc1655",
   "metadata": {},
   "source": [
    "# Body Mass Index Calculator\n",
    "## Nate Borries\n",
    "### May 16, 2023"
   ]
  },
  {
   "cell_type": "code",
   "execution_count": null,
   "id": "179d0d7f",
   "metadata": {},
   "outputs": [],
   "source": [
    "# User inputs\n",
    "name = input(\"Enter your name: \")\n",
    "weight = int(input(\"Enter your weight in pounds: \"))\n",
    "height = int(input(\"Enter your height in inches: \"))\n",
    "\n",
    "#BMI Calculation\n",
    "BMI = (weight * 703) / (height * height)\n",
    "BMI = round(BMI,1)\n",
    "\n",
    "# BMI Output\n",
    "BMI_str = str(BMI)\n",
    "print(\"BMI: \" + BMI_str)\n",
    "\n",
    "# Weight classificaiton based on BMI\n",
    "if BMI > 0:\n",
    "    if(BMI < 18.5):\n",
    "        print(name + \", you are underweight.\")\n",
    "    elif(BMI <= 24.9):\n",
    "        print(name + \", you are normal weight.\")\n",
    "    elif(BMI <= 29.9):\n",
    "        print(name + \", you are overweight.\")\n",
    "    elif(BMI <= 34.9):\n",
    "        print(name + \", you are obese.\")\n",
    "    elif(BMI <= 39.9):\n",
    "        print(name + \", you are severely obese.\")\n",
    "    else: \n",
    "        print(name + \", you are morbidly obese.\")"
   ]
  },
  {
   "cell_type": "code",
   "execution_count": null,
   "id": "3e4a98b2",
   "metadata": {},
   "outputs": [],
   "source": []
  }
 ],
 "metadata": {
  "kernelspec": {
   "display_name": "Python 3 (ipykernel)",
   "language": "python",
   "name": "python3"
  },
  "language_info": {
   "codemirror_mode": {
    "name": "ipython",
    "version": 3
   },
   "file_extension": ".py",
   "mimetype": "text/x-python",
   "name": "python",
   "nbconvert_exporter": "python",
   "pygments_lexer": "ipython3",
   "version": "3.10.9"
  }
 },
 "nbformat": 4,
 "nbformat_minor": 5
}
