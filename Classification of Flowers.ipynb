{
 "cells": [
  {
   "cell_type": "markdown",
   "id": "4098b4a6",
   "metadata": {},
   "source": [
    "# Classification"
   ]
  },
  {
   "cell_type": "code",
   "execution_count": 1,
   "id": "ffac84ec",
   "metadata": {},
   "outputs": [],
   "source": [
    "# Instead of predicting a numeric value, we can predict classes. "
   ]
  },
  {
   "cell_type": "code",
   "execution_count": 2,
   "id": "5e2c984f",
   "metadata": {},
   "outputs": [],
   "source": [
    "# Use different properties of flowers to predict species of flower."
   ]
  },
  {
   "cell_type": "code",
   "execution_count": 3,
   "id": "91b0abd9",
   "metadata": {},
   "outputs": [],
   "source": [
    "import tensorflow as tf\n",
    "import pandas as pd"
   ]
  },
  {
   "cell_type": "markdown",
   "id": "90ff6b4d",
   "metadata": {},
   "source": [
    "## Dataset\n",
    "\n",
    "### This dataset separates flowers into three different species.\n",
    "- Setosa\n",
    "- Versicolor\n",
    "- Virginica\n",
    "\n",
    "### The information about each flower is...\n",
    "- Sepal Length\n",
    "- Sepal Width\n",
    "- Petal Length\n",
    "- Petal Width"
   ]
  },
  {
   "cell_type": "code",
   "execution_count": 58,
   "id": "c2259aa8",
   "metadata": {},
   "outputs": [],
   "source": [
    "CSV_COLUMN_NAMES = ['sepalLength','sepalWidth','petalLength','petalWidth','species']\n",
    "SPECIES = ['Setosa','Versicolor','Virginica']"
   ]
  },
  {
   "cell_type": "code",
   "execution_count": 24,
   "id": "ac501852",
   "metadata": {},
   "outputs": [],
   "source": [
    "train_path=tf.keras.utils.get_file(\"iris_training.csv\",\"https://storage.googleapis.com/download.tensorflow.org/data/iris_training.csv\")\n",
    "test_path = tf.keras.utils.get_file(\"iris_test.csv\",\"https://storage.googleapis.com/download.tensorflow.org/data/iris_test.csv\")\n",
    "\n",
    "train = pd.read_csv(train_path, names=CSV_COLUMN_NAMES, header=0) # create/name data frame for training\n",
    "test = pd.read_csv(test_path, names=CSV_COLUMN_NAMES, header=0) # create/name data frame for testing\n"
   ]
  },
  {
   "cell_type": "markdown",
   "id": "0f084d8d",
   "metadata": {},
   "source": [
    "### Let's look at our data..."
   ]
  },
  {
   "cell_type": "code",
   "execution_count": 25,
   "id": "d4ca3bc0",
   "metadata": {},
   "outputs": [
    {
     "data": {
      "text/html": [
       "<div>\n",
       "<style scoped>\n",
       "    .dataframe tbody tr th:only-of-type {\n",
       "        vertical-align: middle;\n",
       "    }\n",
       "\n",
       "    .dataframe tbody tr th {\n",
       "        vertical-align: top;\n",
       "    }\n",
       "\n",
       "    .dataframe thead th {\n",
       "        text-align: right;\n",
       "    }\n",
       "</style>\n",
       "<table border=\"1\" class=\"dataframe\">\n",
       "  <thead>\n",
       "    <tr style=\"text-align: right;\">\n",
       "      <th></th>\n",
       "      <th>sepalLength</th>\n",
       "      <th>sepalWidth</th>\n",
       "      <th>petalLength</th>\n",
       "      <th>petalWidth</th>\n",
       "      <th>species</th>\n",
       "    </tr>\n",
       "  </thead>\n",
       "  <tbody>\n",
       "    <tr>\n",
       "      <th>0</th>\n",
       "      <td>6.4</td>\n",
       "      <td>2.8</td>\n",
       "      <td>5.6</td>\n",
       "      <td>2.2</td>\n",
       "      <td>2</td>\n",
       "    </tr>\n",
       "    <tr>\n",
       "      <th>1</th>\n",
       "      <td>5.0</td>\n",
       "      <td>2.3</td>\n",
       "      <td>3.3</td>\n",
       "      <td>1.0</td>\n",
       "      <td>1</td>\n",
       "    </tr>\n",
       "    <tr>\n",
       "      <th>2</th>\n",
       "      <td>4.9</td>\n",
       "      <td>2.5</td>\n",
       "      <td>4.5</td>\n",
       "      <td>1.7</td>\n",
       "      <td>2</td>\n",
       "    </tr>\n",
       "    <tr>\n",
       "      <th>3</th>\n",
       "      <td>4.9</td>\n",
       "      <td>3.1</td>\n",
       "      <td>1.5</td>\n",
       "      <td>0.1</td>\n",
       "      <td>0</td>\n",
       "    </tr>\n",
       "    <tr>\n",
       "      <th>4</th>\n",
       "      <td>5.7</td>\n",
       "      <td>3.8</td>\n",
       "      <td>1.7</td>\n",
       "      <td>0.3</td>\n",
       "      <td>0</td>\n",
       "    </tr>\n",
       "  </tbody>\n",
       "</table>\n",
       "</div>"
      ],
      "text/plain": [
       "   sepalLength  sepalWidth  petalLength  petalWidth  species\n",
       "0          6.4         2.8          5.6         2.2        2\n",
       "1          5.0         2.3          3.3         1.0        1\n",
       "2          4.9         2.5          4.5         1.7        2\n",
       "3          4.9         3.1          1.5         0.1        0\n",
       "4          5.7         3.8          1.7         0.3        0"
      ]
     },
     "execution_count": 25,
     "metadata": {},
     "output_type": "execute_result"
    }
   ],
   "source": [
    "train.head() # view first 5 rows of train dataframe"
   ]
  },
  {
   "cell_type": "code",
   "execution_count": 26,
   "id": "88075787",
   "metadata": {
    "scrolled": true
   },
   "outputs": [
    {
     "data": {
      "text/html": [
       "<div>\n",
       "<style scoped>\n",
       "    .dataframe tbody tr th:only-of-type {\n",
       "        vertical-align: middle;\n",
       "    }\n",
       "\n",
       "    .dataframe tbody tr th {\n",
       "        vertical-align: top;\n",
       "    }\n",
       "\n",
       "    .dataframe thead th {\n",
       "        text-align: right;\n",
       "    }\n",
       "</style>\n",
       "<table border=\"1\" class=\"dataframe\">\n",
       "  <thead>\n",
       "    <tr style=\"text-align: right;\">\n",
       "      <th></th>\n",
       "      <th>sepalLength</th>\n",
       "      <th>sepalWidth</th>\n",
       "      <th>petalLength</th>\n",
       "      <th>petalWidth</th>\n",
       "      <th>species</th>\n",
       "    </tr>\n",
       "  </thead>\n",
       "  <tbody>\n",
       "    <tr>\n",
       "      <th>0</th>\n",
       "      <td>5.9</td>\n",
       "      <td>3.0</td>\n",
       "      <td>4.2</td>\n",
       "      <td>1.5</td>\n",
       "      <td>1</td>\n",
       "    </tr>\n",
       "    <tr>\n",
       "      <th>1</th>\n",
       "      <td>6.9</td>\n",
       "      <td>3.1</td>\n",
       "      <td>5.4</td>\n",
       "      <td>2.1</td>\n",
       "      <td>2</td>\n",
       "    </tr>\n",
       "    <tr>\n",
       "      <th>2</th>\n",
       "      <td>5.1</td>\n",
       "      <td>3.3</td>\n",
       "      <td>1.7</td>\n",
       "      <td>0.5</td>\n",
       "      <td>0</td>\n",
       "    </tr>\n",
       "    <tr>\n",
       "      <th>3</th>\n",
       "      <td>6.0</td>\n",
       "      <td>3.4</td>\n",
       "      <td>4.5</td>\n",
       "      <td>1.6</td>\n",
       "      <td>1</td>\n",
       "    </tr>\n",
       "    <tr>\n",
       "      <th>4</th>\n",
       "      <td>5.5</td>\n",
       "      <td>2.5</td>\n",
       "      <td>4.0</td>\n",
       "      <td>1.3</td>\n",
       "      <td>1</td>\n",
       "    </tr>\n",
       "  </tbody>\n",
       "</table>\n",
       "</div>"
      ],
      "text/plain": [
       "   sepalLength  sepalWidth  petalLength  petalWidth  species\n",
       "0          5.9         3.0          4.2         1.5        1\n",
       "1          6.9         3.1          5.4         2.1        2\n",
       "2          5.1         3.3          1.7         0.5        0\n",
       "3          6.0         3.4          4.5         1.6        1\n",
       "4          5.5         2.5          4.0         1.3        1"
      ]
     },
     "execution_count": 26,
     "metadata": {},
     "output_type": "execute_result"
    }
   ],
   "source": [
    "test.head() # view first 5 rows of test  dataframe"
   ]
  },
  {
   "cell_type": "code",
   "execution_count": 27,
   "id": "41b929ab",
   "metadata": {},
   "outputs": [],
   "source": [
    "train_y = train.pop('species') # drop species from df-- they are showing up numerically when we want categorical values\n",
    "test_y = test.pop('species') # drop species from df-- they are showing up numerically when we want categorical values"
   ]
  },
  {
   "cell_type": "code",
   "execution_count": 28,
   "id": "765ac42f",
   "metadata": {},
   "outputs": [
    {
     "data": {
      "text/plain": [
       "(120, 4)"
      ]
     },
     "execution_count": 28,
     "metadata": {},
     "output_type": "execute_result"
    }
   ],
   "source": [
    "train.shape # 120 rows, 4 columns"
   ]
  },
  {
   "cell_type": "code",
   "execution_count": 31,
   "id": "5aa5ab80",
   "metadata": {
    "scrolled": true
   },
   "outputs": [
    {
     "data": {
      "text/plain": [
       "(30, 4)"
      ]
     },
     "execution_count": 31,
     "metadata": {},
     "output_type": "execute_result"
    }
   ],
   "source": [
    "test.shape # 30 rows, 4 columns"
   ]
  },
  {
   "cell_type": "markdown",
   "id": "4f2e3b4e",
   "metadata": {},
   "source": [
    "### Input Function"
   ]
  },
  {
   "cell_type": "code",
   "execution_count": 34,
   "id": "224e662b",
   "metadata": {},
   "outputs": [],
   "source": [
    "def input_fn(features, labels, training=True, batch_size=256):\n",
    "    # Convert the inputs to a dataset\n",
    "    dataset = tf.data.Dataset.from_tensor_slices((dict(features),labels))\n",
    "    if training: \n",
    "        dataset = dataset.shuffle(1000).repeat()\n",
    "    return dataset.batch(batch_size)"
   ]
  },
  {
   "cell_type": "markdown",
   "id": "e599ff1e",
   "metadata": {},
   "source": [
    "### Feature Columns"
   ]
  },
  {
   "cell_type": "code",
   "execution_count": 36,
   "id": "f0208d63",
   "metadata": {
    "scrolled": false
   },
   "outputs": [],
   "source": [
    "# feature columns help describe how to use the input. \n",
    "my_feature_columns = []\n",
    "for key in train.keys():\n",
    "    my_feature_columns.append(tf.feature_column.numeric_column(key=key))"
   ]
  },
  {
   "cell_type": "markdown",
   "id": "74463eca",
   "metadata": {},
   "source": [
    "### Build Model"
   ]
  },
  {
   "cell_type": "markdown",
   "id": "e5df24f2",
   "metadata": {},
   "source": [
    "##### Multiple estimators/models exist that we can pick from for classifcation tasks. These include Deep Neural Networks and Linear Classifers. According to the TF website, DNN Classifer is the best choice for our task."
   ]
  },
  {
   "cell_type": "code",
   "execution_count": 38,
   "id": "5930d158",
   "metadata": {},
   "outputs": [
    {
     "name": "stdout",
     "output_type": "stream",
     "text": [
      "WARNING:tensorflow:From C:\\Users\\Nate\\AppData\\Local\\Temp\\ipykernel_17984\\3018729728.py:2: DNNClassifierV2.__init__ (from tensorflow_estimator.python.estimator.canned.dnn) is deprecated and will be removed in a future version.\n",
      "Instructions for updating:\n",
      "Use tf.keras instead.\n",
      "WARNING:tensorflow:From C:\\Users\\Nate\\Documents\\Anaconda\\lib\\site-packages\\tensorflow_estimator\\python\\estimator\\head\\head_utils.py:59: MultiClassHead.__init__ (from tensorflow_estimator.python.estimator.head.multi_class_head) is deprecated and will be removed in a future version.\n",
      "Instructions for updating:\n",
      "Use tf.keras instead.\n",
      "WARNING:tensorflow:From C:\\Users\\Nate\\Documents\\Anaconda\\lib\\site-packages\\tensorflow_estimator\\python\\estimator\\canned\\dnn.py:759: Estimator.__init__ (from tensorflow_estimator.python.estimator.estimator) is deprecated and will be removed in a future version.\n",
      "Instructions for updating:\n",
      "Use tf.keras instead.\n",
      "WARNING:tensorflow:From C:\\Users\\Nate\\Documents\\Anaconda\\lib\\site-packages\\tensorflow_estimator\\python\\estimator\\estimator.py:1842: RunConfig.__init__ (from tensorflow_estimator.python.estimator.run_config) is deprecated and will be removed in a future version.\n",
      "Instructions for updating:\n",
      "Use tf.keras instead.\n",
      "INFO:tensorflow:Using default config.\n",
      "WARNING:tensorflow:Using temporary folder as model directory: C:\\Users\\Nate\\AppData\\Local\\Temp\\tmp4a8j38my\n",
      "INFO:tensorflow:Using config: {'_model_dir': 'C:\\\\Users\\\\Nate\\\\AppData\\\\Local\\\\Temp\\\\tmp4a8j38my', '_tf_random_seed': None, '_save_summary_steps': 100, '_save_checkpoints_steps': None, '_save_checkpoints_secs': 600, '_session_config': allow_soft_placement: true\n",
      "graph_options {\n",
      "  rewrite_options {\n",
      "    meta_optimizer_iterations: ONE\n",
      "  }\n",
      "}\n",
      ", '_keep_checkpoint_max': 5, '_keep_checkpoint_every_n_hours': 10000, '_log_step_count_steps': 100, '_train_distribute': None, '_device_fn': None, '_protocol': None, '_eval_distribute': None, '_experimental_distribute': None, '_experimental_max_worker_delay_secs': None, '_session_creation_timeout_secs': 7200, '_checkpoint_save_graph_def': True, '_service': None, '_cluster_spec': ClusterSpec({}), '_task_type': 'worker', '_task_id': 0, '_global_id_in_cluster': 0, '_master': '', '_evaluation_master': '', '_is_chief': True, '_num_ps_replicas': 0, '_num_worker_replicas': 1}\n"
     ]
    }
   ],
   "source": [
    "# Build a DNN with 2 hidden layers with 30 and 10 hidden nodes respectively.\n",
    "classifier = tf.estimator.DNNClassifier(\n",
    "    feature_columns = my_feature_columns,\n",
    "    hidden_units=[30, 10], # 30 hidden notes in first layer, 10 in second.\n",
    "    n_classes = 3) # model chooses between 3 classes.                          "
   ]
  },
  {
   "cell_type": "markdown",
   "id": "04418006",
   "metadata": {},
   "source": [
    "### Train the Model"
   ]
  },
  {
   "cell_type": "code",
   "execution_count": 40,
   "id": "66d10073",
   "metadata": {
    "scrolled": false
   },
   "outputs": [
    {
     "name": "stdout",
     "output_type": "stream",
     "text": [
      "WARNING:tensorflow:From C:\\Users\\Nate\\Documents\\Anaconda\\lib\\site-packages\\tensorflow_estimator\\python\\estimator\\estimator.py:385: StopAtStepHook.__init__ (from tensorflow.python.training.basic_session_run_hooks) is deprecated and will be removed in a future version.\n",
      "Instructions for updating:\n",
      "Use tf.keras instead.\n",
      "WARNING:tensorflow:From C:\\Users\\Nate\\Documents\\Anaconda\\lib\\site-packages\\tensorflow\\python\\training\\training_util.py:396: Variable.initialized_value (from tensorflow.python.ops.variables) is deprecated and will be removed in a future version.\n",
      "Instructions for updating:\n",
      "Use Variable.read_value. Variables in 2.X are initialized automatically both in eager and graph (inside tf.defun) contexts.\n",
      "INFO:tensorflow:Calling model_fn.\n",
      "WARNING:tensorflow:From C:\\Users\\Nate\\Documents\\Anaconda\\lib\\site-packages\\keras\\optimizers\\legacy\\adagrad.py:93: calling Constant.__init__ (from tensorflow.python.ops.init_ops) with dtype is deprecated and will be removed in a future version.\n",
      "Instructions for updating:\n",
      "Call initializer instance with the dtype argument instead of passing it to the constructor\n",
      "WARNING:tensorflow:From C:\\Users\\Nate\\Documents\\Anaconda\\lib\\site-packages\\tensorflow_estimator\\python\\estimator\\model_fn.py:250: EstimatorSpec.__new__ (from tensorflow_estimator.python.estimator.model_fn) is deprecated and will be removed in a future version.\n",
      "Instructions for updating:\n",
      "Use tf.keras instead.\n",
      "INFO:tensorflow:Done calling model_fn.\n",
      "WARNING:tensorflow:From C:\\Users\\Nate\\Documents\\Anaconda\\lib\\site-packages\\tensorflow_estimator\\python\\estimator\\estimator.py:1414: NanTensorHook.__init__ (from tensorflow.python.training.basic_session_run_hooks) is deprecated and will be removed in a future version.\n",
      "Instructions for updating:\n",
      "Use tf.keras instead.\n",
      "WARNING:tensorflow:From C:\\Users\\Nate\\Documents\\Anaconda\\lib\\site-packages\\tensorflow_estimator\\python\\estimator\\estimator.py:1417: LoggingTensorHook.__init__ (from tensorflow.python.training.basic_session_run_hooks) is deprecated and will be removed in a future version.\n",
      "Instructions for updating:\n",
      "Use tf.keras instead.\n",
      "WARNING:tensorflow:From C:\\Users\\Nate\\Documents\\Anaconda\\lib\\site-packages\\tensorflow\\python\\training\\basic_session_run_hooks.py:232: SecondOrStepTimer.__init__ (from tensorflow.python.training.basic_session_run_hooks) is deprecated and will be removed in a future version.\n",
      "Instructions for updating:\n",
      "Use tf.keras instead.\n",
      "WARNING:tensorflow:From C:\\Users\\Nate\\Documents\\Anaconda\\lib\\site-packages\\tensorflow_estimator\\python\\estimator\\estimator.py:1454: CheckpointSaverHook.__init__ (from tensorflow.python.training.basic_session_run_hooks) is deprecated and will be removed in a future version.\n",
      "Instructions for updating:\n",
      "Use tf.keras instead.\n",
      "INFO:tensorflow:Create CheckpointSaverHook.\n",
      "WARNING:tensorflow:From C:\\Users\\Nate\\Documents\\Anaconda\\lib\\site-packages\\tensorflow\\python\\training\\monitored_session.py:579: StepCounterHook.__init__ (from tensorflow.python.training.basic_session_run_hooks) is deprecated and will be removed in a future version.\n",
      "Instructions for updating:\n",
      "Use tf.keras instead.\n",
      "WARNING:tensorflow:From C:\\Users\\Nate\\Documents\\Anaconda\\lib\\site-packages\\tensorflow\\python\\training\\monitored_session.py:586: SummarySaverHook.__init__ (from tensorflow.python.training.basic_session_run_hooks) is deprecated and will be removed in a future version.\n",
      "Instructions for updating:\n",
      "Use tf.keras instead.\n",
      "INFO:tensorflow:Graph was finalized.\n",
      "INFO:tensorflow:Running local_init_op.\n",
      "INFO:tensorflow:Done running local_init_op.\n",
      "INFO:tensorflow:Calling checkpoint listeners before saving checkpoint 0...\n",
      "INFO:tensorflow:Saving checkpoints for 0 into C:\\Users\\Nate\\AppData\\Local\\Temp\\tmp4a8j38my\\model.ckpt.\n",
      "INFO:tensorflow:Calling checkpoint listeners after saving checkpoint 0...\n",
      "WARNING:tensorflow:From C:\\Users\\Nate\\Documents\\Anaconda\\lib\\site-packages\\tensorflow\\python\\training\\monitored_session.py:1455: SessionRunArgs.__new__ (from tensorflow.python.training.session_run_hook) is deprecated and will be removed in a future version.\n",
      "Instructions for updating:\n",
      "Use tf.keras instead.\n",
      "WARNING:tensorflow:From C:\\Users\\Nate\\Documents\\Anaconda\\lib\\site-packages\\tensorflow\\python\\training\\monitored_session.py:1454: SessionRunContext.__init__ (from tensorflow.python.training.session_run_hook) is deprecated and will be removed in a future version.\n",
      "Instructions for updating:\n",
      "Use tf.keras instead.\n",
      "WARNING:tensorflow:From C:\\Users\\Nate\\Documents\\Anaconda\\lib\\site-packages\\tensorflow\\python\\training\\monitored_session.py:1474: SessionRunValues.__new__ (from tensorflow.python.training.session_run_hook) is deprecated and will be removed in a future version.\n",
      "Instructions for updating:\n",
      "Use tf.keras instead.\n",
      "INFO:tensorflow:loss = 2.3266177, step = 0\n",
      "INFO:tensorflow:global_step/sec: 284.013\n",
      "INFO:tensorflow:loss = 1.3944778, step = 100 (0.352 sec)\n",
      "INFO:tensorflow:global_step/sec: 423.733\n",
      "INFO:tensorflow:loss = 1.1416497, step = 200 (0.235 sec)\n",
      "INFO:tensorflow:global_step/sec: 509.984\n",
      "INFO:tensorflow:loss = 0.9873682, step = 300 (0.196 sec)\n",
      "INFO:tensorflow:global_step/sec: 487.001\n",
      "INFO:tensorflow:loss = 0.89673865, step = 400 (0.205 sec)\n",
      "INFO:tensorflow:global_step/sec: 502.826\n",
      "INFO:tensorflow:loss = 0.82382023, step = 500 (0.199 sec)\n",
      "INFO:tensorflow:global_step/sec: 536.243\n",
      "INFO:tensorflow:loss = 0.7824875, step = 600 (0.188 sec)\n",
      "INFO:tensorflow:global_step/sec: 463.057\n",
      "INFO:tensorflow:loss = 0.7470658, step = 700 (0.215 sec)\n",
      "INFO:tensorflow:global_step/sec: 544.914\n",
      "INFO:tensorflow:loss = 0.7221488, step = 800 (0.185 sec)\n",
      "INFO:tensorflow:global_step/sec: 490.94\n",
      "INFO:tensorflow:loss = 0.70789754, step = 900 (0.203 sec)\n",
      "INFO:tensorflow:global_step/sec: 545.393\n",
      "INFO:tensorflow:loss = 0.6816708, step = 1000 (0.182 sec)\n",
      "INFO:tensorflow:global_step/sec: 486.083\n",
      "INFO:tensorflow:loss = 0.6741257, step = 1100 (0.208 sec)\n",
      "INFO:tensorflow:global_step/sec: 545.532\n",
      "INFO:tensorflow:loss = 0.65830445, step = 1200 (0.182 sec)\n",
      "INFO:tensorflow:global_step/sec: 433.193\n",
      "INFO:tensorflow:loss = 0.6448638, step = 1300 (0.231 sec)\n",
      "INFO:tensorflow:global_step/sec: 491.06\n",
      "INFO:tensorflow:loss = 0.6281191, step = 1400 (0.205 sec)\n",
      "INFO:tensorflow:global_step/sec: 480.624\n",
      "INFO:tensorflow:loss = 0.6202316, step = 1500 (0.207 sec)\n",
      "INFO:tensorflow:global_step/sec: 462.446\n",
      "INFO:tensorflow:loss = 0.59989446, step = 1600 (0.218 sec)\n",
      "INFO:tensorflow:global_step/sec: 464.382\n",
      "INFO:tensorflow:loss = 0.59096617, step = 1700 (0.213 sec)\n",
      "INFO:tensorflow:global_step/sec: 429.966\n",
      "INFO:tensorflow:loss = 0.58760166, step = 1800 (0.234 sec)\n",
      "INFO:tensorflow:global_step/sec: 482.016\n",
      "INFO:tensorflow:loss = 0.5756387, step = 1900 (0.208 sec)\n",
      "INFO:tensorflow:global_step/sec: 445.697\n",
      "INFO:tensorflow:loss = 0.5708666, step = 2000 (0.224 sec)\n",
      "INFO:tensorflow:global_step/sec: 429.697\n",
      "INFO:tensorflow:loss = 0.56188744, step = 2100 (0.233 sec)\n",
      "INFO:tensorflow:global_step/sec: 421.799\n",
      "INFO:tensorflow:loss = 0.5475743, step = 2200 (0.236 sec)\n",
      "INFO:tensorflow:global_step/sec: 460.263\n",
      "INFO:tensorflow:loss = 0.5395948, step = 2300 (0.219 sec)\n",
      "INFO:tensorflow:global_step/sec: 442.579\n",
      "INFO:tensorflow:loss = 0.54207456, step = 2400 (0.227 sec)\n",
      "INFO:tensorflow:global_step/sec: 451.838\n",
      "INFO:tensorflow:loss = 0.51831675, step = 2500 (0.221 sec)\n",
      "INFO:tensorflow:global_step/sec: 436.034\n",
      "INFO:tensorflow:loss = 0.51281255, step = 2600 (0.229 sec)\n",
      "INFO:tensorflow:global_step/sec: 409.627\n",
      "INFO:tensorflow:loss = 0.51626897, step = 2700 (0.244 sec)\n",
      "INFO:tensorflow:global_step/sec: 451.301\n",
      "INFO:tensorflow:loss = 0.5124744, step = 2800 (0.221 sec)\n",
      "INFO:tensorflow:global_step/sec: 486.2\n",
      "INFO:tensorflow:loss = 0.5026714, step = 2900 (0.206 sec)\n",
      "INFO:tensorflow:global_step/sec: 543.594\n",
      "INFO:tensorflow:loss = 0.49796492, step = 3000 (0.184 sec)\n",
      "INFO:tensorflow:global_step/sec: 548.396\n",
      "INFO:tensorflow:loss = 0.48667473, step = 3100 (0.182 sec)\n",
      "INFO:tensorflow:global_step/sec: 535.884\n",
      "INFO:tensorflow:loss = 0.48779148, step = 3200 (0.186 sec)\n",
      "INFO:tensorflow:global_step/sec: 549.283\n",
      "INFO:tensorflow:loss = 0.4877631, step = 3300 (0.183 sec)\n",
      "INFO:tensorflow:global_step/sec: 542.522\n",
      "INFO:tensorflow:loss = 0.47083086, step = 3400 (0.185 sec)\n",
      "INFO:tensorflow:global_step/sec: 555.181\n",
      "INFO:tensorflow:loss = 0.49077177, step = 3500 (0.178 sec)\n"
     ]
    },
    {
     "name": "stdout",
     "output_type": "stream",
     "text": [
      "INFO:tensorflow:global_step/sec: 548.246\n",
      "INFO:tensorflow:loss = 0.46576518, step = 3600 (0.186 sec)\n",
      "INFO:tensorflow:global_step/sec: 534.624\n",
      "INFO:tensorflow:loss = 0.4552077, step = 3700 (0.185 sec)\n",
      "INFO:tensorflow:global_step/sec: 567.687\n",
      "INFO:tensorflow:loss = 0.46134, step = 3800 (0.176 sec)\n",
      "INFO:tensorflow:global_step/sec: 585.828\n",
      "INFO:tensorflow:loss = 0.45778757, step = 3900 (0.173 sec)\n",
      "INFO:tensorflow:global_step/sec: 541.096\n",
      "INFO:tensorflow:loss = 0.4638439, step = 4000 (0.182 sec)\n",
      "INFO:tensorflow:global_step/sec: 583.412\n",
      "INFO:tensorflow:loss = 0.45007378, step = 4100 (0.172 sec)\n",
      "INFO:tensorflow:global_step/sec: 482.543\n",
      "INFO:tensorflow:loss = 0.4499638, step = 4200 (0.207 sec)\n",
      "INFO:tensorflow:global_step/sec: 529.959\n",
      "INFO:tensorflow:loss = 0.45340702, step = 4300 (0.188 sec)\n",
      "INFO:tensorflow:global_step/sec: 574.691\n",
      "INFO:tensorflow:loss = 0.4361281, step = 4400 (0.174 sec)\n",
      "INFO:tensorflow:global_step/sec: 554.712\n",
      "INFO:tensorflow:loss = 0.43923128, step = 4500 (0.182 sec)\n",
      "INFO:tensorflow:global_step/sec: 541.716\n",
      "INFO:tensorflow:loss = 0.41914237, step = 4600 (0.184 sec)\n",
      "INFO:tensorflow:global_step/sec: 502.241\n",
      "INFO:tensorflow:loss = 0.42531893, step = 4700 (0.198 sec)\n",
      "INFO:tensorflow:global_step/sec: 531.958\n",
      "INFO:tensorflow:loss = 0.42221618, step = 4800 (0.190 sec)\n",
      "INFO:tensorflow:global_step/sec: 558.041\n",
      "INFO:tensorflow:loss = 0.42391503, step = 4900 (0.179 sec)\n",
      "INFO:tensorflow:Calling checkpoint listeners before saving checkpoint 5000...\n",
      "INFO:tensorflow:Saving checkpoints for 5000 into C:\\Users\\Nate\\AppData\\Local\\Temp\\tmp4a8j38my\\model.ckpt.\n",
      "INFO:tensorflow:Calling checkpoint listeners after saving checkpoint 5000...\n",
      "INFO:tensorflow:Loss for final step: 0.4183992.\n"
     ]
    },
    {
     "data": {
      "text/plain": [
       "<tensorflow_estimator.python.estimator.canned.dnn.DNNClassifierV2 at 0x237e4448670>"
      ]
     },
     "execution_count": 40,
     "metadata": {},
     "output_type": "execute_result"
    }
   ],
   "source": [
    "# lambda is an anonymous function written in one line. Whatever is after the colun is a funciton.\n",
    "\n",
    "classifier.train(\n",
    "    input_fn = lambda: input_fn(train, train_y, training=True), steps = 5000) # steps is like epochs, but rather that 5000 times, its going to look at 5000 points of data.\n",
    "\n",
    "# the lower the losss, the better the model"
   ]
  },
  {
   "cell_type": "markdown",
   "id": "bd5c25c3",
   "metadata": {},
   "source": [
    "### Evaluate the Model"
   ]
  },
  {
   "cell_type": "code",
   "execution_count": 46,
   "id": "a432260e",
   "metadata": {},
   "outputs": [
    {
     "name": "stdout",
     "output_type": "stream",
     "text": [
      "INFO:tensorflow:Calling model_fn.\n",
      "INFO:tensorflow:Done calling model_fn.\n",
      "INFO:tensorflow:Starting evaluation at 2023-06-05T16:33:20\n",
      "INFO:tensorflow:Graph was finalized.\n",
      "INFO:tensorflow:Restoring parameters from C:\\Users\\Nate\\AppData\\Local\\Temp\\tmp4a8j38my\\model.ckpt-5000\n",
      "INFO:tensorflow:Running local_init_op.\n",
      "INFO:tensorflow:Done running local_init_op.\n",
      "INFO:tensorflow:Inference Time : 0.50566s\n",
      "INFO:tensorflow:Finished evaluation at 2023-06-05-16:33:21\n",
      "INFO:tensorflow:Saving dict for global step 5000: accuracy = 0.9, average_loss = 0.48305714, global_step = 5000, loss = 0.48305714\n",
      "INFO:tensorflow:Saving 'checkpoint_path' summary for global step 5000: C:\\Users\\Nate\\AppData\\Local\\Temp\\tmp4a8j38my\\model.ckpt-5000\n",
      "n\\Test set accuracy: 0.900\n",
      "\n"
     ]
    }
   ],
   "source": [
    "eval_result = classifier.evaluate(input_fn = lambda: input_fn(test, test_y, training=False))\n",
    "print('n\\Test set accuracy: {accuracy:0.3f}\\n'.format(**eval_result))"
   ]
  },
  {
   "cell_type": "markdown",
   "id": "49e0911c",
   "metadata": {},
   "source": [
    "### Predictions Using Model"
   ]
  },
  {
   "cell_type": "code",
   "execution_count": null,
   "id": "eff084f1",
   "metadata": {
    "scrolled": true
   },
   "outputs": [
    {
     "name": "stdout",
     "output_type": "stream",
     "text": [
      "Please type numeric values as prompted.\n"
     ]
    }
   ],
   "source": [
    "def input_fn(features, batch_size=256):\n",
    "    return tf.data.Dataset.from_tensor_slices(dict(features)).batch(batch_size)\n",
    "\n",
    "features = ['sepalLength','sepalWidth','petalLength','petalWidth']\n",
    "predict = {}\n",
    "\n",
    "print(\"Please type numeric values as prompted.\")\n",
    "for feature in features:\n",
    "    valid = True\n",
    "    while valid:\n",
    "        val = input(feature + \": \")\n",
    "        if not val.isdigit(): valid=False\n",
    "            \n",
    "    \n",
    "    predict[feature] = [float(val)] # even if we only want to predict one value, we still need to build list due to TF setup.\n",
    "    \n",
    "\n",
    "predictions = classifier.predict(input_fn = lambda: input_fn(predict))\n",
    "for pred_dict in predictions:\n",
    "    class_id = pred_dict['class_ids'][0] # \n",
    "    probability = pred_dict['probabilities'][class_id]\n",
    "    \n",
    "    print('Prediction is \"{}\" ({:.1f}%)'.format(\n",
    "        SPECIES[class_id], 100 * probability))\n",
    "        \n",
    "        \n",
    "\n",
    "# Input and Expected Classes - Plug in these values to see if the model correctly predicts their species!\n",
    "\n",
    "expected = ['Setosa','Versicolor','Virginica']\n",
    "predict_x = {\n",
    "    'sepalLength': [5.1, 5.9, 6.9],\n",
    "    'sepalWidth': [3.3, 3.0, 3.1],\n",
    "    'petalLength':[1.7,4.2,5.4],\n",
    "    'petalWidth':[0.5,1.5,2.1], }\n"
   ]
  },
  {
   "cell_type": "code",
   "execution_count": null,
   "id": "0122887e",
   "metadata": {},
   "outputs": [],
   "source": []
  }
 ],
 "metadata": {
  "kernelspec": {
   "display_name": "Python 3 (ipykernel)",
   "language": "python",
   "name": "python3"
  },
  "language_info": {
   "codemirror_mode": {
    "name": "ipython",
    "version": 3
   },
   "file_extension": ".py",
   "mimetype": "text/x-python",
   "name": "python",
   "nbconvert_exporter": "python",
   "pygments_lexer": "ipython3",
   "version": "3.10.9"
  }
 },
 "nbformat": 4,
 "nbformat_minor": 5
}
